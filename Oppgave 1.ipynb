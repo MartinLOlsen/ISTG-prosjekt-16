{
 "cells": [
  {
   "cell_type": "markdown",
   "id": "d425c928",
   "metadata": {},
   "source": [
    "Oppgave 1\n",
    "\n",
    "Del 1 - Gjennomfør støyete målinger\n",
    "\n",
    "Regn ut gjennomsnitt og empirisk standardavvik for målingene. Forklar kort hvordan dere utførte målingene."
   ]
  },
  {
   "cell_type": "code",
   "execution_count": 13,
   "id": "0aa8560b",
   "metadata": {},
   "outputs": [
    {
     "name": "stdout",
     "output_type": "stream",
     "text": [
      "   måling nr.  omkrets\n",
      "0           1        2\n",
      "1           1        3\n"
     ]
    }
   ],
   "source": [
    "import pandas as pd\n",
    "import seaborn as sns\n",
    "import numpy as np\n",
    "import matplotlib.pyplot as plt\n",
    "\n",
    "df = pd.read_csv(\"https://raw.githubusercontent.com/MartinLOlsen/ISTG-prosjekt-16/main/data.csv\", header=0)\n",
    "\n",
    "print(df)"
   ]
  },
  {
   "cell_type": "markdown",
   "id": "b9ad7fbd",
   "metadata": {},
   "source": [
    "Del 2 - \n",
    "Estimert standardavvik X_snitt for målingene. \n",
    "\n",
    "Anta normalfordelte målinger med forventning my og ukjent SD. Regn ut et 95% konfidensintervall for my."
   ]
  },
  {
   "cell_type": "code",
   "execution_count": null,
   "id": "729e5912",
   "metadata": {},
   "outputs": [],
   "source": []
  },
  {
   "cell_type": "markdown",
   "id": "6fa003f5",
   "metadata": {},
   "source": [
    "Del 3 - "
   ]
  }
 ],
 "metadata": {
  "kernelspec": {
   "display_name": "base",
   "language": "python",
   "name": "python3"
  },
  "language_info": {
   "codemirror_mode": {
    "name": "ipython",
    "version": 3
   },
   "file_extension": ".py",
   "mimetype": "text/x-python",
   "name": "python",
   "nbconvert_exporter": "python",
   "pygments_lexer": "ipython3",
   "version": "3.13.5"
  }
 },
 "nbformat": 4,
 "nbformat_minor": 5
}
