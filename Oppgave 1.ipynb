{
 "cells": [
  {
   "cell_type": "markdown",
   "id": "d425c928",
   "metadata": {},
   "source": [
    "Oppgave 1\n",
    "\n",
    "Del 1 - Gjennomfør støyete målinger\n",
    "\n",
    "Regn ut gjennomsnitt og empirisk standardavvik for målingene. Forklar kort hvordan dere utførte målingene."
   ]
  },
  {
   "cell_type": "code",
   "execution_count": 38,
   "id": "0aa8560b",
   "metadata": {},
   "outputs": [
    {
     "name": "stdout",
     "output_type": "stream",
     "text": [
      "   maaling nr.  omkrets\n",
      "0            1     20.9\n",
      "1            1     21.2\n",
      "2            3     21.0\n",
      "3            4     22.0\n",
      "4            5     21.3\n",
      "5            6     20.9\n",
      "6            7     21.1\n",
      "7            8     21.0\n",
      "8            9     21.1\n",
      "9           10     20.8\n"
     ]
    }
   ],
   "source": [
    "import pandas as pd\n",
    "import seaborn as sns\n",
    "import numpy as np\n",
    "from scipy import stats\n",
    "import matplotlib.pyplot as plt\n",
    "\n",
    "df = pd.read_csv(\"https://raw.githubusercontent.com/MartinLOlsen/ISTG-prosjekt-16/main/data.csv\", header=0)\n",
    "\n",
    "print(df)"
   ]
  },
  {
   "cell_type": "markdown",
   "id": "29524616",
   "metadata": {},
   "source": [
    "Del 1 - Gjennomsnitt og empirisk standardavvik"
   ]
  },
  {
   "cell_type": "code",
   "execution_count": 35,
   "id": "0f36d011",
   "metadata": {},
   "outputs": [
    {
     "name": "stdout",
     "output_type": "stream",
     "text": [
      "Gjennomsnittet er 21.13\n",
      "Standardavviket er 0.3401\n"
     ]
    }
   ],
   "source": [
    "X_snitt = np.mean(df[\"omkrets\"])\n",
    "print(f\"Gjennomsnittet er {round(X_snitt, 4)}\")\n",
    "\n",
    "SD_X = stats.stdev(df[\"omkrets\"])\n",
    "print(f\"Standardavviket er {round(SD_X, 4)}\")"
   ]
  },
  {
   "cell_type": "markdown",
   "id": "63cb1d82",
   "metadata": {},
   "source": [
    "Del 2 - Usikkerhet og støy i målinger"
   ]
  },
  {
   "cell_type": "code",
   "execution_count": 44,
   "id": "008f0b5c",
   "metadata": {},
   "outputs": [
    {
     "name": "stdout",
     "output_type": "stream",
     "text": [
      "Standardfeil: 0.11\n",
      "95% konfidensintervall: (20.89, 21.37)\n"
     ]
    }
   ],
   "source": [
    "# Del 2\n",
    "n = df['omkrets'].count() # antall målinger\n",
    "SE = SD_X / np.sqrt(n) # standardfeil\n",
    "\n",
    "t = stats.t.ppf(0.975, n - 1) # t-verdi for 95% konfidensintervall\n",
    "margin = t * SE \n",
    "nedre = X_snitt - margin # nedre grense i konfidensintervallet\n",
    "ovre = X_snitt + margin # øvre grense i konfidensintervallet\n",
    "\n",
    "print(f'Standardfeil: {SE:.2f}')\n",
    "print(f'95% konfidensintervall: ({nedre:.2f}, {ovre:.2f})')"
   ]
  },
  {
   "cell_type": "markdown",
   "id": "6fa003f5",
   "metadata": {},
   "source": [
    "Del 3 - Målefunksjon og feilforplantning"
   ]
  },
  {
   "cell_type": "code",
   "execution_count": 46,
   "id": "00b11b35",
   "metadata": {},
   "outputs": [
    {
     "name": "stdout",
     "output_type": "stream",
     "text": [
      "Areal: 35.53 ± 0.72\n",
      "Areal (beregnet fra hver måling): 35.54 ± 0.73\n"
     ]
    }
   ],
   "source": [
    "A = X_snitt ** 2 / (4 * np.pi) # målefunksjon for areal av tverrsnitt\n",
    "SE_A = (X_snitt / (2 * np.pi)) * SE # standardfeil for areal\n",
    "#print(f'Areal: {A:.2f}')\n",
    "#print(f'Standardavvik for areal: {SE_A:.2f}')\n",
    "\n",
    "k = 2\n",
    "print(f'Areal: {A:.2f} ± {k*SE_A:.2f}') # areal og usikkerhet med dekningsfaktor k=2\n",
    "\n",
    "x = df['omkrets'].values # x1, x2, ..., xn\n",
    "a = x**2 / (4 * np.pi) # a1, a2, ..., an\n",
    "a_snitt = np.mean(a) # gjennomsnitt av areal\n",
    "std_a = np.std(a, ddof=1) # standardavvik for areal\n",
    "SE_a = std_a / np.sqrt(n) # standardfeil for areal\n",
    "usikkerhet = k * SE_a # usikkerhet for areal med dekningsfaktor k=2\n",
    "print(f'Areal (beregnet fra hver måling): {a_snitt:.2f} ± {usikkerhet:.2f}')"
   ]
  }
 ],
 "metadata": {
  "kernelspec": {
   "display_name": "base",
   "language": "python",
   "name": "python3"
  },
  "language_info": {
   "codemirror_mode": {
    "name": "ipython",
    "version": 3
   },
   "file_extension": ".py",
   "mimetype": "text/x-python",
   "name": "python",
   "nbconvert_exporter": "python",
   "pygments_lexer": "ipython3",
   "version": "3.13.5"
  }
 },
 "nbformat": 4,
 "nbformat_minor": 5
}
